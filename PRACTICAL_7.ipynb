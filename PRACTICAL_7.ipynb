{
  "nbformat": 4,
  "nbformat_minor": 0,
  "metadata": {
    "colab": {
      "provenance": [],
      "authorship_tag": "ABX9TyOvD4zDcZxn+5OA9eRG1WQ7",
      "include_colab_link": true
    },
    "kernelspec": {
      "name": "ir",
      "display_name": "R"
    },
    "language_info": {
      "name": "R"
    }
  },
  "cells": [
    {
      "cell_type": "markdown",
      "metadata": {
        "id": "view-in-github",
        "colab_type": "text"
      },
      "source": [
        "<a href=\"https://colab.research.google.com/github/HI160029/Data-science-R/blob/main/PRACTICAL_7.ipynb\" target=\"_parent\"><img src=\"https://colab.research.google.com/assets/colab-badge.svg\" alt=\"Open In Colab\"/></a>"
      ]
    },
    {
      "cell_type": "markdown",
      "source": [
        "#**R-Box plots**\n",
        "\n",
        "1. Boxplots are a measure of how well distributed the data in a data set is. It divides the data set into three quartiles. This graph represents the minimum, maximum, median, first quartile and third quartile in the data set. It is also useful in comparing the distribution of data across data sets by drawing boxplots for each of them.\n",
        "\n",
        "2. Boxplots are created in R by using the boxplot() function.\n",
        "\n",
        "Syntax:\n",
        "\n",
        "The basic syntax to create a boxplot in R is −\n",
        "\n",
        "```\n",
        "boxplot(x, data, notch, varwidth, names, main)\n",
        "```\n",
        "Following is the description of the parameters used −\n",
        "*  **x** is a vector or a formula.\n",
        "*  **data** is the data frame.\n",
        "*  **notch** is a logical value. Set as TRUE to draw a notch.\n",
        "*  **varwidth** is a logical value. Set as true to draw width of the box proportionate to the sample size.\n",
        "*  **names** are the group labels which will be printed under each boxplot.\n",
        "*  **main** is used to give a title to the graph.\n",
        "\n",
        "3. Example:\n",
        "\n",
        "We use the data set \"mtcars\" available in the R environment to create a basic boxplot. Let's look at the columns \"mpg\" and \"cyl\" in mtcars.\n",
        "\n",
        "Source: https://gist.github.com/seankross/a412dfbd88b3db70b74b"
      ],
      "metadata": {
        "id": "cNJzl90ZdmIk"
      }
    },
    {
      "cell_type": "code",
      "execution_count": null,
      "metadata": {
        "colab": {
          "base_uri": "https://localhost:8080/"
        },
        "id": "Ymk4rOSgdbt4",
        "outputId": "ed644c44-f4a7-4726-d759-8ca4f4ac1f73"
      },
      "outputs": [
        {
          "output_type": "stream",
          "name": "stdout",
          "text": [
            "              model  mpg cyl disp  hp drat    wt  qsec vs am gear carb\n",
            "1         Mazda RX4 21.0   6  160 110 3.90 2.620 16.46  0  1    4    4\n",
            "2     Mazda RX4 Wag 21.0   6  160 110 3.90 2.875 17.02  0  1    4    4\n",
            "3        Datsun 710 22.8   4  108  93 3.85 2.320 18.61  1  1    4    1\n",
            "4    Hornet 4 Drive 21.4   6  258 110 3.08 3.215 19.44  1  0    3    1\n",
            "5 Hornet Sportabout 18.7   8  360 175 3.15 3.440 17.02  0  0    3    2\n",
            "6           Valiant 18.1   6  225 105 2.76 3.460 20.22  1  0    3    1\n"
          ]
        }
      ],
      "source": [
        "input <- read.csv(\"/content/mtcars.csv\")\n",
        "print(head(input))"
      ]
    },
    {
      "cell_type": "markdown",
      "source": [
        "4. Creating the Boxplot\n",
        "\n",
        "The below script will create a boxplot graph for the relation between mpg (miles per gallon) and cyl (number of cylinders)."
      ],
      "metadata": {
        "id": "aViA7YStePW1"
      }
    },
    {
      "cell_type": "code",
      "source": [
        "# Give the chart file a name.\n",
        "png(file = \"boxplot.png\")\n",
        "\n",
        "# Plot the chart.\n",
        "boxplot(mpg ~ cyl, data = mtcars, xlab = \"Number of Cylinders\",\n",
        "ylab = \"Miles Per Gallon\", main = \"Mileage Data\")\n",
        "\n",
        "# Save the file.\n",
        "dev.off()"
      ],
      "metadata": {
        "id": "Y1OjcvMveTL3",
        "colab": {
          "base_uri": "https://localhost:8080/",
          "height": 34
        },
        "outputId": "ab8524f0-4b8c-404b-ceb2-7ec0b96786b5"
      },
      "execution_count": null,
      "outputs": [
        {
          "output_type": "display_data",
          "data": {
            "text/html": [
              "<strong>png:</strong> 2"
            ],
            "text/markdown": "**png:** 2",
            "text/latex": "\\textbf{png:} 2",
            "text/plain": [
              "png \n",
              "  2 "
            ]
          },
          "metadata": {}
        }
      ]
    },
    {
      "cell_type": "markdown",
      "source": [
        "5. Boxplot with Notch\n",
        "\n",
        "We can draw boxplot with notch to find out how the medians of different data groups match with each other. The below script will create a boxplot graph with notch for each of the data group."
      ],
      "metadata": {
        "id": "lq0MgQehgzdk"
      }
    },
    {
      "cell_type": "code",
      "source": [
        "# Give the chart file a name.\n",
        "png(file = \"boxplot_with_notch.png\")\n",
        "\n",
        "# Plot the chart.\n",
        "boxplot(mpg ~ cyl, data = mtcars,\n",
        "xlab = \"Number of Cylinders\",\n",
        "ylab = \"Miles Per Gallon\",\n",
        "main = \"Mileage Data\",\n",
        "notch = TRUE,\n",
        "varwidth = TRUE,\n",
        "col = c(\"green\",\"yellow\",\"purple\"),\n",
        "names = c(\"High\",\"Medium\",\"Low\")\n",
        ")\n",
        "\n",
        "# Save the file.\n",
        "dev.off()"
      ],
      "metadata": {
        "colab": {
          "base_uri": "https://localhost:8080/",
          "height": 69
        },
        "id": "7n9NuWRzg3Na",
        "outputId": "08ef008c-aa6c-4cf0-c253-4552d297373f"
      },
      "execution_count": null,
      "outputs": [
        {
          "output_type": "stream",
          "name": "stderr",
          "text": [
            "Warning message in (function (z, notch = FALSE, width = NULL, varwidth = FALSE, :\n",
            "“some notches went outside hinges ('box'): maybe set notch=FALSE”\n"
          ]
        },
        {
          "output_type": "display_data",
          "data": {
            "text/html": [
              "<strong>png:</strong> 2"
            ],
            "text/markdown": "**png:** 2",
            "text/latex": "\\textbf{png:} 2",
            "text/plain": [
              "png \n",
              "  2 "
            ]
          },
          "metadata": {}
        }
      ]
    },
    {
      "cell_type": "markdown",
      "source": [
        "#**R- Histogram**\n",
        "\n",
        "1. A histogram represents the frequencies of values of a variable bucketed into ranges. Histogram is like bar chart, but the difference is it groups the values into continuous ranges. Each bar in histogram represents the height of the number of values present in that range.\n",
        "2. R creates histogram using hist() function. This function takes a vector as an input and uses some more parameters to plot histograms.\n",
        "3. Syntax\n",
        "\n",
        "The basic syntax for creating a histogram using R is −\n",
        "\n",
        "```\n",
        "hist(v,main,xlab,xlim,ylim,breaks,col,border)\n",
        "```\n",
        "\n",
        "Following is the description of the parameters used −\n",
        "*  **v** is a vector containing numeric values used in histogram.\n",
        "*  **main** indicates title of the chart.\n",
        "*  **col** is used to set color of the bars.\n",
        "*  **border** is used to set border color of each bar.\n",
        "*  **xlab** is used to give description of x-axis.\n",
        "*  **xlim** is used to specify the range of values on the x-axis.\n",
        "*  **ylim** is used to specify the range of values on the y-axis.\n",
        "*  **breaks** is used to mention the width of each bar.\n",
        "\n",
        "4. Example\n",
        "\n",
        "A simple histogram is created using input vector, label, col and border parameters. The script given below will create and save the histogram in the current R working directory."
      ],
      "metadata": {
        "id": "vXk5puqog_8o"
      }
    },
    {
      "cell_type": "code",
      "source": [
        "# Create data for the graph.\n",
        "v <- c(9,13,21,8,36,22,12,41,31,33,19)\n",
        "\n",
        "# Give the chart file a name.\n",
        "png(file = \"histogram.png\")\n",
        "\n",
        "# Create the histogram.\n",
        "hist(v,xlab = \"Weight\",col = \"yellow\",border = \"blue\")\n",
        "\n",
        "# Save the file.\n",
        "dev.off()"
      ],
      "metadata": {
        "colab": {
          "base_uri": "https://localhost:8080/",
          "height": 34
        },
        "id": "nT3CPTHjhuCJ",
        "outputId": "db7ac285-ccd4-4a53-b0a2-5a600b18bd24"
      },
      "execution_count": null,
      "outputs": [
        {
          "output_type": "display_data",
          "data": {
            "text/html": [
              "<strong>png:</strong> 2"
            ],
            "text/markdown": "**png:** 2",
            "text/latex": "\\textbf{png:} 2",
            "text/plain": [
              "png \n",
              "  2 "
            ]
          },
          "metadata": {}
        }
      ]
    },
    {
      "cell_type": "markdown",
      "source": [
        "Range of X and Y values\n",
        "\n",
        "To specify the range of values allowed in X axis and Y axis, we can use the xlim and ylim parameters.\n",
        "\n",
        "The width of each of the bar can be decided by using breaks."
      ],
      "metadata": {
        "id": "m1j8pEYehywZ"
      }
    },
    {
      "cell_type": "code",
      "source": [
        "# Create data for the graph.\n",
        "v <- c(9,13,21,8,36,22,12,41,31,33,19)\n",
        "\n",
        "# Give the chart file a name.\n",
        "png(file = \"histogram_lim_breaks.png\")\n",
        "\n",
        "# Create the histogram.\n",
        "hist(v,xlab = \"Weight\",col = \"green\",border = \"red\", xlim =c(0,40), ylim = c(0,5),breaks = 5)\n",
        "\n",
        "# Save the file.\n",
        "dev.off()"
      ],
      "metadata": {
        "colab": {
          "base_uri": "https://localhost:8080/",
          "height": 34
        },
        "id": "ziMudcy_h2fJ",
        "outputId": "7be4c7a1-c2bc-4d7b-f76b-a635790b9b4f"
      },
      "execution_count": null,
      "outputs": [
        {
          "output_type": "display_data",
          "data": {
            "text/html": [
              "<strong>png:</strong> 2"
            ],
            "text/markdown": "**png:** 2",
            "text/latex": "\\textbf{png:} 2",
            "text/plain": [
              "png \n",
              "  2 "
            ]
          },
          "metadata": {}
        }
      ]
    },
    {
      "cell_type": "markdown",
      "source": [
        "**R- Mean, Median, Mode**\n",
        "\n",
        "1. Statistical analysis in R is performed by using many in-built functions. Most of these functions are part of the R base package. These functions take R vector as an input along with the arguments and give the result. The functions we are discussing in this chapter are mean, median and mode.\n",
        "\n",
        "2. Mean\n",
        "\n",
        "It is calculated by taking the sum of the values and dividing with the number of values in a data series.\n",
        "The function mean() is used to calculate this in R.\n",
        "\n",
        "3. Syntax\n",
        "\n",
        "The basic syntax for calculating mean in R is −\n",
        "\n",
        "\n",
        "```\n",
        "mean(x, trim = 0, na.rm = FALSE, ...)\n",
        "```\n",
        "\n",
        "Following is the description of the parameters used −\n",
        "*  x is the input vector.\n",
        "*  trim is used to drop some observations from both end of the sorted vector.\n",
        "*  na.rm is used to remove the missing values from the input vector.\n",
        "\n",
        "4. Example"
      ],
      "metadata": {
        "id": "eG-RUgp9h-Ds"
      }
    },
    {
      "cell_type": "code",
      "source": [
        "# Create a vector.\n",
        "x <- c(12,7,3,4.2,18,2,54,-21,8,-5)\n",
        "\n",
        "# Find Mean.\n",
        "result.mean <- mean(x)\n",
        "print(result.mean)"
      ],
      "metadata": {
        "colab": {
          "base_uri": "https://localhost:8080/"
        },
        "id": "NwZM21gOiVmv",
        "outputId": "4a0cbc8a-f9ca-4fa7-df67-70ac5b13a5dd"
      },
      "execution_count": null,
      "outputs": [
        {
          "output_type": "stream",
          "name": "stdout",
          "text": [
            "[1] 8.22\n"
          ]
        }
      ]
    },
    {
      "cell_type": "markdown",
      "source": [
        "5. Applying Trim Option\n",
        "\n",
        "When trim parameter is supplied, the values in the vector get sorted and then the required numbers of observations are dropped from calculating the mean.\n",
        "When trim = 0.3, 3 values from each end will be dropped from the calculations to find mean.\n",
        "\n",
        "In this case the sorted vector is (−21, −5, 2, 3, 4.2, 7, 8, 12, 18, 54) and the values\n",
        "\n",
        "removed from the vector for calculating mean are (−21,−5,2) from left and (12,18,54)from right."
      ],
      "metadata": {
        "id": "HIaLz7kZiZBO"
      }
    },
    {
      "cell_type": "code",
      "source": [
        "# Create a vector.\n",
        "x <- c(12,7,3,4.2,18,2,54,-21,8,-5)\n",
        "\n",
        "# Find Mean.\n",
        "result.mean <- mean(x,trim = 0.3)\n",
        "print(result.mean)"
      ],
      "metadata": {
        "colab": {
          "base_uri": "https://localhost:8080/"
        },
        "id": "OUwOZCZ7iong",
        "outputId": "bb5a8a7f-751e-408d-9b2f-42145bbe7e21"
      },
      "execution_count": null,
      "outputs": [
        {
          "output_type": "stream",
          "name": "stdout",
          "text": [
            "[1] 5.55\n"
          ]
        }
      ]
    },
    {
      "cell_type": "markdown",
      "source": [
        "6. Applying NA Option\n",
        "\n",
        "If there are missing values, then the mean function returns NA.\n",
        "To drop the missing values from the calculation use na.rm = TRUE. which means\n",
        "remove the NA values."
      ],
      "metadata": {
        "id": "9osLjfYlislF"
      }
    },
    {
      "cell_type": "code",
      "source": [
        "# Create a vector.\n",
        "x <- c(12,7,3,4.2,18,2,54,-21,8,-5,NA)\n",
        "\n",
        "# Find mean.\n",
        "result.mean <- mean(x)\n",
        "print(result.mean)\n",
        "\n",
        "# Find mean dropping NA values.\n",
        "result.mean <- mean(x,na.rm = TRUE)\n",
        "print(result.mean)"
      ],
      "metadata": {
        "colab": {
          "base_uri": "https://localhost:8080/"
        },
        "id": "6xz5n4uLiw5e",
        "outputId": "ba6a4108-7a9c-48cb-d397-51b5b28ac5a6"
      },
      "execution_count": null,
      "outputs": [
        {
          "output_type": "stream",
          "name": "stdout",
          "text": [
            "[1] NA\n",
            "[1] 8.22\n"
          ]
        }
      ]
    },
    {
      "cell_type": "markdown",
      "source": [
        "7. Median\n",
        "\n",
        "The middle most value in a data series is called the median. The median() function isused in R to calculate this value.\n",
        "8. Syntax\n",
        "\n",
        "The basic syntax for calculating median in R is − median(x, na.rm = FALSE)\n",
        "Following is the description of the parameters used −\n",
        "*  x is the input vector.\n",
        "*  na.rm is used to remove the missing values from the input vector.\n",
        "\n",
        "Example"
      ],
      "metadata": {
        "id": "jda_QNPVi4EY"
      }
    },
    {
      "cell_type": "code",
      "source": [
        "# Create the vector.\n",
        "x <- c(12,7,3,4.2,18,2,54,-21,8,-5)\n",
        "\n",
        "# Find the median.\n",
        "median.result <- median(x)\n",
        "print(median.result)"
      ],
      "metadata": {
        "colab": {
          "base_uri": "https://localhost:8080/"
        },
        "id": "Md5jxM3YjKAS",
        "outputId": "396c414d-4d57-4ac6-a935-83fd8d5e5eb5"
      },
      "execution_count": null,
      "outputs": [
        {
          "output_type": "stream",
          "name": "stdout",
          "text": [
            "[1] 5.6\n"
          ]
        }
      ]
    },
    {
      "cell_type": "markdown",
      "source": [
        "9. Mode\n",
        "\n",
        "The mode is the value that has highest number of occurrences in a set of data. Unike mean and median, mode can have both numeric and character data.\n",
        "R does not have a standard in-built function to calculate mode. So we create a user function to calculate mode of a data set in R. This function takes the vector as input and gives the mode value as output.\n",
        "\n",
        "10. Example"
      ],
      "metadata": {
        "id": "ZtPkAa_HjVKI"
      }
    },
    {
      "cell_type": "code",
      "source": [
        "# Create the function.\n",
        "getmode <- function(v) {\n",
        "uniqv <- unique(v)\n",
        "uniqv[which.max(tabulate(match(v, uniqv)))]\n",
        "}\n",
        "\n",
        "# Create the vector with numbers.\n",
        "v <- c(2,1,2,3,1,2,3,4,1,5,5,3,2,3)\n",
        "\n",
        "# Calculate the mode using the user function.\n",
        "result <- getmode(v)\n",
        "print(result)\n",
        "\n",
        "# Create the vector with characters.\n",
        "charv <- c(\"o\",\"it\",\"the\",\"it\",\"it\")\n",
        "\n",
        "# Calculate the mode using the user function.\n",
        "result <- getmode(charv)\n",
        "print(result)"
      ],
      "metadata": {
        "colab": {
          "base_uri": "https://localhost:8080/"
        },
        "id": "WqGFQi5TjbHk",
        "outputId": "d36a9d00-84fe-4e91-858d-4f24d6fb0eaf"
      },
      "execution_count": null,
      "outputs": [
        {
          "output_type": "stream",
          "name": "stdout",
          "text": [
            "[1] 2\n",
            "[1] \"it\"\n"
          ]
        }
      ]
    }
  ]
}